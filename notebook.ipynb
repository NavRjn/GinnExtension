{
 "cells": [
  {
   "cell_type": "code",
   "id": "initial_id",
   "metadata": {
    "collapsed": true,
    "ExecuteTime": {
     "end_time": "2025-08-18T10:15:36.789535Z",
     "start_time": "2025-08-18T10:15:36.773849Z"
    }
   },
   "source": [
    "import numpy as np\n",
    "import torch\n",
    "import torch.nn as nn\n",
    "import torch.optim as optim\n",
    "import matplotlib.pyplot as plt\n",
    "import plotly.graph_objs as go\n",
    "import plotly.io as pio\n",
    "from math import sqrt\n",
    "import pytorch_lightning as pl\n",
    "from pytorch_lightning import Trainer\n",
    "from torch.utils.data import DataLoader, Dataset\n",
    "\n",
    "pio.renderers.default = \"browser\""
   ],
   "outputs": [],
   "execution_count": 20
  },
  {
   "metadata": {
    "ExecuteTime": {
     "end_time": "2025-08-18T10:15:37.998098Z",
     "start_time": "2025-08-18T10:15:37.986949Z"
    }
   },
   "cell_type": "code",
   "source": [
    "# The idea basically is to develop a 2D Toy problem to demonstrate GINN. It must cover the entire workflow, establish some evaluations, and produce concrete comparable metrics. The choice of models or \"data\" is arbitrary. However, it must be easily transferable to VecSet type workflows too. Ideally modular.\n",
    "# Also lets use neural fields instead of clouds from step 1.\n",
    "N = 100\n",
    "device = torch.device('cuda' if torch.cuda.is_available() else 'cpu')"
   ],
   "id": "2396d92fe0421227",
   "outputs": [],
   "execution_count": 21
  },
  {
   "metadata": {
    "ExecuteTime": {
     "end_time": "2025-08-17T17:13:20.986349Z",
     "start_time": "2025-08-17T17:13:20.970447Z"
    }
   },
   "cell_type": "code",
   "source": [
    "# def plot_cloud(points, title=\"Point Cloud\"):\n",
    "#     x, y = zip(*points)\n",
    "#     fig = go.Figure(data=go.Scatter(x=x, y=y, mode='markers'))\n",
    "#     fig.update_layout(title=title,\n",
    "#                       xaxis_title='X',\n",
    "#                       yaxis_title='Y',\n",
    "#                       width=600, height=600)\n",
    "#     fig.show()\n",
    "# \n",
    "# def plot_field(grid_y, grid_x, values, plotly=False):\n",
    "#     if not plotly:\n",
    "#         plt.contourf(grid_x.cpu().numpy(), grid_y.cpu().numpy(), values.cpu(), levels=50)\n",
    "#         plt.colorbar()\n",
    "#         plt.contour(grid_x.cpu(), grid_y.cpu(), values.reshape(grid_x.shape).cpu(), levels=[0.0], colors='black')  # plot zero level\n",
    "#         plt.show()\n",
    "#         return\n",
    "#     \n",
    "#     fig = go.Figure(\n",
    "#         data=go.Contour(\n",
    "#             x=grid_x[0, :].cpu().numpy(),   # X-axis from meshgrid\n",
    "#             y=grid_y[:, 0].cpu().numpy(),   # Y-axis from meshgrid\n",
    "#             z=values.cpu().numpy(),         # field values\n",
    "#             colorscale=\"Viridis\",           # color map\n",
    "#             contours=dict(showlines=True, coloring=\"fill\"),\n",
    "#             ncontours=100,\n",
    "#             showscale=True\n",
    "#         )\n",
    "#     )\n",
    "# \n",
    "#     # Add zero-level contour in black (like your plt.contour)\n",
    "#     fig.add_trace(\n",
    "#         go.Contour(\n",
    "#             x=grid_x[0, :].cpu().numpy(),\n",
    "#             y=grid_y[:, 0].cpu().numpy(),\n",
    "#             z=values.cpu().numpy(),\n",
    "#             contours=dict(start=-0.1, end=0.1, size=1, coloring=\"none\"),\n",
    "#             line=dict(color=\"black\", width=2),\n",
    "#             showscale=False\n",
    "#         )\n",
    "#     )\n",
    "#     \n",
    "#     fig.update_layout(\n",
    "#         title=\"Contour Plot\",\n",
    "#         xaxis=dict(\n",
    "#             scaleanchor=\"y\",  # Lock x and y axes together\n",
    "#         ),\n",
    "#         yaxis=dict(\n",
    "#             scaleanchor=\"x\",  # Lock y and x axes together (optional, can be removed if set on xaxis)\n",
    "#         ),\n",
    "#         autosize=True\n",
    "#     )\n",
    "# \n",
    "#     fig.show()\n",
    "# \n",
    "# def get_point_rep(fun):\n",
    "#     grid_x, grid_y = torch.meshgrid(\n",
    "#             torch.linspace(-1, 1, N), torch.linspace(-1, 1, N), indexing=\"ij\"\n",
    "#         )\n",
    "#     coords = torch.stack([grid_x.reshape(-1), grid_y.reshape(-1)], dim=-1).to(device)\n",
    "#     \n",
    "#     with torch.no_grad():\n",
    "#         values = fun(coords).reshape(N, N)\n",
    "#         \n",
    "#     return grid_x.to(device), grid_y.to(device), values.to(device)\n",
    "# \n",
    "# def circle_SDF(x0=[0,0], r=1):\n",
    "#     return lambda points: torch.asarray([abs(sqrt((x[0]-x0[0])**2 + (x[1]-x0[1])**2)-r) for x in points])\n",
    "#     "
   ],
   "id": "129e0dfe87b56be3",
   "outputs": [],
   "execution_count": 3
  },
  {
   "metadata": {
    "ExecuteTime": {
     "end_time": "2025-08-18T10:50:41.983696Z",
     "start_time": "2025-08-18T10:50:41.954406Z"
    }
   },
   "cell_type": "code",
   "source": [
    "class SDF:\n",
    "    def __init__(self, fun=None, model=None, grid_x=None, grid_y=None, values=None, xy_lims=None):\n",
    "        if xy_lims is not None:\n",
    "            self.grid_y, self.grid_x = torch.meshgrid(torch.linspace(xy_lims[0], xy_lims[1], N), torch.linspace(xy_lims[2], xy_lims[3], N), indexing=\"ij\") \n",
    "        else:\n",
    "            assert grid_x is not None and grid_y is not None\n",
    "            self.grid_x, self.grid_y = grid_x, grid_y\n",
    "        \n",
    "        self.values, self.model, self.values = None, None, None\n",
    "        self.update(fun, model, values, device_=device)\n",
    "        \n",
    "        self.device = device\n",
    "        \n",
    "        self.fig = None\n",
    "                \n",
    "    def plot_field(self, plotly=False, layers=100, preprocess=None, domain=None, newN=None):\n",
    "        values = None\n",
    "        if domain is None:\n",
    "            grid_x, grid_y = self.grid_x, self.grid_y\n",
    "            values = self.values if (preprocess is None) else preprocess(self.values)\n",
    "        else:\n",
    "            assert self.model is not None\n",
    "            model = self.model.to(self.device)\n",
    "            N_ = N if newN is None else newN\n",
    "            grid_y, grid_x = torch.meshgrid(torch.linspace(domain[0], domain[1], N_), torch.linspace(domain[0], domain[1], N_))\n",
    "            coords = torch.stack([self.grid_x.reshape(-1), self.grid_y.reshape(-1)], dim=-1).to(self.device)\n",
    "            with torch.no_grad():\n",
    "                values = self.model(coords).reshape(N_, N_)\n",
    "        if not plotly:\n",
    "            plt.contourf(grid_x.cpu().numpy(), grid_y.cpu().numpy(), values.cpu(), levels=layers)\n",
    "            plt.colorbar()\n",
    "            plt.contour(grid_x.cpu(), grid_y.cpu(), values.reshape(grid_x.shape).cpu(), levels=[0.0], colors='black')  # plot zero level\n",
    "            plt.show()\n",
    "            return\n",
    "        \n",
    "        self.fig = go.Figure(\n",
    "            data=go.Contour(\n",
    "                x=grid_x[0, :].cpu().numpy(),   # X-axis from meshgrid\n",
    "                y=grid_y[:, 0].cpu().numpy(),   # Y-axis from meshgrid\n",
    "                z=values.cpu().numpy(),         # field values\n",
    "                colorscale=\"Viridis\",           # color map\n",
    "                contours=dict(showlines=False, coloring=\"fill\"),\n",
    "                ncontours=layers,\n",
    "                showscale=True\n",
    "            )\n",
    "        )\n",
    "    \n",
    "        # Add zero-level contour in black (like your plt.contour)\n",
    "        self.fig.add_trace(\n",
    "            go.Contour(\n",
    "                x=grid_x[0, :].cpu().numpy(),\n",
    "                y=grid_y[:, 0].cpu().numpy(),\n",
    "                z=values.cpu().numpy(),\n",
    "                contours=dict(start=-0.1, end=0.1, size=1, coloring=\"none\"),\n",
    "                line=dict(color=\"black\", width=2),\n",
    "                showscale=False\n",
    "            )\n",
    "        )\n",
    "        \n",
    "        self.fig.update_layout(\n",
    "            title=\"Contour Plot\",\n",
    "            xaxis=dict(\n",
    "                scaleanchor=\"y\",  # Lock x and y axes together\n",
    "            ),\n",
    "            yaxis=dict(\n",
    "                scaleanchor=\"x\",  # Lock y and x axes together (optional, can be removed if set on xaxis)\n",
    "            ),\n",
    "            autosize=True\n",
    "        )\n",
    "    \n",
    "        self.fig.show()\n",
    "        \n",
    "    def update(self, fun=None, model=None, values=None, device_=\"cuda\"):\n",
    "        if fun is None and model is None:\n",
    "            assert values is not None\n",
    "            self.values = values\n",
    "            self.model = None\n",
    "        else:\n",
    "            if model is None:\n",
    "                assert fun is not None\n",
    "                model = lambda points: torch.asarray([fun(point) for point in points])\n",
    "            self.model = model\n",
    "            coords = torch.stack(\n",
    "                [self.grid_x.reshape(-1), self.grid_y.reshape(-1)], dim=-1\n",
    "            ).to(device_)\n",
    "            with torch.no_grad():\n",
    "                self.values = model(coords).reshape(N, N)\n",
    "                \n",
    "class CircleSDF(SDF):\n",
    "    def __init__(self, x0=(0,0), r=1, xy_lims=(-1, 1, -1, 1)):\n",
    "        model = lambda points: torch.asarray([abs(sqrt((x[0]-x0[0])**2 + (x[1]-x0[1])**2)-r) for x in points])\n",
    "        super().__init__(model=model, xy_lims=xy_lims)"
   ],
   "id": "b0801504ecf92456",
   "outputs": [],
   "execution_count": 71
  },
  {
   "metadata": {
    "ExecuteTime": {
     "end_time": "2025-08-18T10:40:01.344297Z",
     "start_time": "2025-08-18T10:39:59.455960Z"
    }
   },
   "cell_type": "code",
   "source": [
    "circle_sdf = CircleSDF(x0=[0,0], r=0.2)\n",
    "circle_sdf.plot_field(True)"
   ],
   "id": "1e849a00f38067e3",
   "outputs": [],
   "execution_count": 45
  },
  {
   "metadata": {
    "ExecuteTime": {
     "end_time": "2025-08-17T17:27:00.082397Z",
     "start_time": "2025-08-17T17:27:00.071706Z"
    }
   },
   "cell_type": "code",
   "source": "random = SDF(model=lambda x: torch.asarray(np.random.random((x.shape[0], 1))), xy_lims=(-1, 1, -1, 1))",
   "id": "33bdf3127c619eef",
   "outputs": [],
   "execution_count": 24
  },
  {
   "metadata": {
    "ExecuteTime": {
     "end_time": "2025-08-17T17:27:00.489214Z",
     "start_time": "2025-08-17T17:27:00.343265Z"
    }
   },
   "cell_type": "code",
   "source": "random.plot_field(True, 5)",
   "id": "b63c3ae525ed7ced",
   "outputs": [],
   "execution_count": 25
  },
  {
   "metadata": {
    "ExecuteTime": {
     "end_time": "2025-08-18T10:50:43.735775Z",
     "start_time": "2025-08-18T10:50:43.695322Z"
    }
   },
   "cell_type": "code",
   "source": [
    "class FieldMLP(nn.Module):\n",
    "    def __init__(self, in_dim=2, hidden=128, depth=4, out_dim=1):\n",
    "        super().__init__()\n",
    "        layers = []\n",
    "        dims = [in_dim] + [hidden]*(depth-1) + [out_dim]\n",
    "        for i in range(len(dims)-1):\n",
    "            layers += [nn.Linear(dims[i], dims[i+1])]\n",
    "            if i < len(dims)-2:\n",
    "                layers += [nn.SiLU()]     # smooth activation is helpful for gradients\n",
    "        self.net = nn.Sequential(*layers)\n",
    "\n",
    "    def forward(self, x):   # x: (B, 2) points in [-1,1]^2\n",
    "        return self.net(x)  # (B, 1)\n",
    "    \n",
    "    \n",
    "class DummyDataset(Dataset):\n",
    "    def __len__(self): return 10\n",
    "    def __getitem__(self, idx): return torch.tensor(0.0)\n",
    "    \n",
    "    \n",
    "# Implement a Constraint class here that you can just add new constraints to.\n",
    "class ConstraintLoss:\n",
    "    def __init__(self, model, coords):\n",
    "        field = model(coords)\n",
    "\n",
    "        self.area = area = self.constraint_area_loss(field, target_area=1.0)\n",
    "        self.tv = tv   = self.total_variation_loss(field, coords)\n",
    "        self.cont = cont = self.containment_loss(coords, field, thresh=0.5)\n",
    "        self.cent = cent = self.center_loss(field)\n",
    "        # misc = torch.zeros((), device=self.device)\n",
    "\n",
    "        self.loss = (4.0 * area + 0.1 * tv + 10.0 * cont + 0.2 * cent) # + misc\n",
    "       \n",
    "    @property\n",
    "    def total_loss(self)->torch.Tensor:\n",
    "        return self.loss\n",
    "        \n",
    "    def constraint_area_loss(self, field, target_area=0.2):\n",
    "        p = torch.sigmoid(field)\n",
    "        area_est = p.mean()\n",
    "        return (area_est - target_area)**2\n",
    "    \n",
    "    def total_variation_loss(self, field, coords):\n",
    "        # TV on the field via gradient magnitude ||∇f||; needs grads w.r.t. coords\n",
    "        grad = torch.autograd.grad(\n",
    "            field, coords,\n",
    "            grad_outputs=torch.ones_like(field),\n",
    "            create_graph=True, retain_graph=True, only_inputs=True\n",
    "        )[0]  # shape (B,2)\n",
    "        tv = (grad.pow(2).sum(dim=-1) + 1e-8).sqrt().mean()\n",
    "        return tv\n",
    "    \n",
    "    def containment_loss(self, coords, field, thresh=0.5):\n",
    "        # Example: penalize predictions outside a disk of radius 1 (just a demo)\n",
    "        # Encourage \"inside\" probs > thresh where r<=1, and < thresh outside\n",
    "        r = coords.norm(dim=-1, keepdim=True)\n",
    "        target = (r <= 1.0).float()\n",
    "        p = torch.sigmoid(field)\n",
    "        return ((p - (thresh*0 + target)).abs()).mean()\n",
    "    \n",
    "    def center_loss(self, field):\n",
    "        return field.mean()**2\n",
    "    \n",
    "    def symmetry_loss(self, field, coords):\n",
    "        pass\n",
    "    \n",
    "\n",
    "class ConstraintTrainer(pl.LightningModule):\n",
    "    def __init__(self, sdf, lr=1e-3, n_points=1024, domain=[-1,1], seed=None):\n",
    "        super().__init__()\n",
    "        self.sdf = sdf\n",
    "        self.model = sdf.model\n",
    "        self.lr = lr\n",
    "        self.n_points = n_points\n",
    "        self.register_buffer('domain_min', torch.tensor([domain[0], domain[0]]), persistent=False)\n",
    "        self.register_buffer('domain_max', torch.tensor([domain[1], domain[1]]), persistent=False)\n",
    "        if seed is not None:\n",
    "            pl.seed_everything(seed)\n",
    "            \n",
    "        self.all_frames = []\n",
    "\n",
    "    def sample_coords(self, n):\n",
    "        # Uniform in the box\n",
    "        u = torch.rand(n, 2, device=self.device)\n",
    "        return self.domain_min + (self.domain_max - self.domain_min) * u\n",
    "\n",
    "    def configure_optimizers(self):\n",
    "        return torch.optim.Adam(self.parameters(), lr=self.lr)\n",
    "    \n",
    "    def train_dataloader(self):\n",
    "        return DataLoader(DummyDataset(), batch_size=1)\n",
    "    \n",
    "    # --------------------- HOOKS ---------------------------------\n",
    "    def training_step(self, batch, batch_idx):\n",
    "        # No dataloader needed; we draw fresh collocation points each step\n",
    "        coords = self.sample_coords(self.n_points).requires_grad_()\n",
    "        field = self.model(coords)\n",
    "\n",
    "        # loss = abs(field.mean()) # Dummy loss\n",
    "        cl = ConstraintLoss(self.model, coords)\n",
    "        loss = cl.total_loss\n",
    "\n",
    "        self.log_dict(\n",
    "            {\"loss\": loss,  \"area\": cl.area, \"tv\": cl.tv, \"cont\": cl.cont, \"center\": cl.cent},\n",
    "            prog_bar=True, on_step=True, on_epoch=True\n",
    "        )\n",
    "        return loss\n",
    "    \n",
    "    def on_train_start(self) -> None:\n",
    "        self.sdf.update(model=self.model, device_=self.device)\n",
    "        self.sdf.plot_field(True, 5)\n",
    "        \n",
    "    def on_train_epoch_end(self):\n",
    "        self.sdf.update(model=self.model, device_=self.device)\n",
    "        # self.sdf.plot_field(True)\n",
    "        self.all_frames.append(self.sdf.values.cpu().numpy())\n",
    "        \n",
    "    def on_train_end(self):\n",
    "        # Build plotly animation\n",
    "        frames = [go.Frame(\n",
    "            data=[go.Contour(z=z, x=self.sdf.grid_x[0,:].cpu().numpy(),\n",
    "                             y=self.sdf.grid_y[:,0].cpu().numpy())],\n",
    "            name=f\"epoch{k}\"\n",
    "        ) for k, z in enumerate(self.all_frames)]\n",
    "    \n",
    "        fig = go.Figure(\n",
    "            data=frames[0].data,\n",
    "            frames=frames\n",
    "        )\n",
    "    \n",
    "        fig.update_layout(\n",
    "            updatemenus=[{\n",
    "                \"buttons\": [\n",
    "                    {\"args\": [None, {\"frame\": {\"duration\": 200, \"redraw\": True},\n",
    "                                     \"fromcurrent\": True}], \"label\": \"▶ Play\", \"method\": \"animate\"},\n",
    "                    {\"args\": [[None], {\"frame\": {\"duration\": 0, \"redraw\": False},\n",
    "                                       \"mode\": \"immediate\"}], \"label\": \"⏸ Pause\", \"method\": \"animate\"}\n",
    "                ]\n",
    "            }]\n",
    "        )\n",
    "        fig.show()"
   ],
   "id": "f1065143c682dcd0",
   "outputs": [],
   "execution_count": 72
  },
  {
   "metadata": {
    "ExecuteTime": {
     "end_time": "2025-08-18T10:50:45.580723Z",
     "start_time": "2025-08-18T10:50:44.017627Z"
    }
   },
   "cell_type": "code",
   "source": [
    "model = FieldMLP(hidden=32, depth=2).to(device)\n",
    "sdf = SDF(model=model, xy_lims=(-1, 1, -1, 1))\n",
    "lit = ConstraintTrainer(sdf, lr=1e-3, n_points=128, domain=[-1,1], seed=42)\n",
    "trainer = pl.Trainer(\n",
    "    max_epochs=5,\n",
    "    accelerator=\"auto\",\n",
    "    precision=\"bf16-mixed\" if torch.cuda.is_available() else \"32-true\",\n",
    "    gradient_clip_val=1.0,\n",
    "    log_every_n_steps=10\n",
    ")\n",
    "trainer.fit(lit)"
   ],
   "id": "93b07c0d733ad817",
   "outputs": [
    {
     "name": "stderr",
     "output_type": "stream",
     "text": [
      "Seed set to 42\n",
      "Using bfloat16 Automatic Mixed Precision (AMP)\n",
      "GPU available: True (cuda), used: True\n",
      "TPU available: False, using: 0 TPU cores\n",
      "HPU available: False, using: 0 HPUs\n",
      "LOCAL_RANK: 0 - CUDA_VISIBLE_DEVICES: [0]\n",
      "\n",
      "  | Name  | Type     | Params | Mode \n",
      "-------------------------------------------\n",
      "0 | model | FieldMLP | 129    | train\n",
      "-------------------------------------------\n",
      "129       Trainable params\n",
      "0         Non-trainable params\n",
      "129       Total params\n",
      "0.001     Total estimated model params size (MB)\n",
      "5         Modules in train mode\n",
      "0         Modules in eval mode\n"
     ]
    },
    {
     "name": "stdout",
     "output_type": "stream",
     "text": [
      "Epoch 4: 100%|██████████| 10/10 [00:00<00:00, 46.00it/s, v_num=33, loss_step=4.700, area_step=0.121, tv_step=0.153, cont_step=0.412, center_step=0.396, loss_epoch=4.820, area_epoch=0.128, tv_epoch=0.165, cont_epoch=0.422, center_epoch=0.343]  "
     ]
    },
    {
     "name": "stderr",
     "output_type": "stream",
     "text": [
      "`Trainer.fit` stopped: `max_epochs=5` reached.\n"
     ]
    },
    {
     "name": "stdout",
     "output_type": "stream",
     "text": [
      "Epoch 4: 100%|██████████| 10/10 [00:00<00:00, 42.98it/s, v_num=33, loss_step=4.700, area_step=0.121, tv_step=0.153, cont_step=0.412, center_step=0.396, loss_epoch=4.820, area_epoch=0.128, tv_epoch=0.165, cont_epoch=0.422, center_epoch=0.343]\n"
     ]
    }
   ],
   "execution_count": 73
  },
  {
   "metadata": {
    "ExecuteTime": {
     "end_time": "2025-08-18T10:54:21.024105Z",
     "start_time": "2025-08-18T10:54:21.012570Z"
    }
   },
   "cell_type": "code",
   "source": [
    "metrics = trainer.logged_metrics\n",
    "print(metrics)"
   ],
   "id": "5e9e073c57f70d7c",
   "outputs": [
    {
     "name": "stdout",
     "output_type": "stream",
     "text": [
      "{'loss_step': tensor(4.6950), 'area_step': tensor(0.1209), 'tv_step': tensor(0.1534), 'cont_step': tensor(0.4117), 'center_step': tensor(0.3955), 'loss_epoch': tensor(4.8173), 'area_epoch': tensor(0.1278), 'tv_epoch': tensor(0.1653), 'cont_epoch': tensor(0.4221), 'center_epoch': tensor(0.3431)}\n"
     ]
    }
   ],
   "execution_count": 78
  },
  {
   "metadata": {
    "ExecuteTime": {
     "end_time": "2025-08-18T10:53:55.946323Z",
     "start_time": "2025-08-18T10:53:55.775963Z"
    }
   },
   "cell_type": "code",
   "source": [
    "sdf.plot_field(\n",
    "    True, 50, \n",
    ")"
   ],
   "id": "f1b2d141ec537cef",
   "outputs": [],
   "execution_count": 77
  },
  {
   "metadata": {},
   "cell_type": "code",
   "outputs": [],
   "execution_count": null,
   "source": "",
   "id": "d544d52fa14abdcc"
  }
 ],
 "metadata": {
  "kernelspec": {
   "display_name": "Python 3",
   "language": "python",
   "name": "python3"
  },
  "language_info": {
   "codemirror_mode": {
    "name": "ipython",
    "version": 2
   },
   "file_extension": ".py",
   "mimetype": "text/x-python",
   "name": "python",
   "nbconvert_exporter": "python",
   "pygments_lexer": "ipython2",
   "version": "2.7.6"
  }
 },
 "nbformat": 4,
 "nbformat_minor": 5
}
