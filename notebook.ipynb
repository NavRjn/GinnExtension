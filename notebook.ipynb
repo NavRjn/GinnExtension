{
 "cells": [
  {
   "cell_type": "code",
   "id": "initial_id",
   "metadata": {
    "collapsed": true,
    "ExecuteTime": {
     "end_time": "2025-08-22T11:17:51.321476Z",
     "start_time": "2025-08-22T11:17:41.226969Z"
    }
   },
   "source": [
    "from models import FieldMLP, FieldAttention\n",
    "import importlib\n",
    "import utils\n",
    "importlib.reload(utils)\n",
    "from utils import *\n",
    "\n",
    "pio.renderers.default = \"browser\""
   ],
   "outputs": [],
   "execution_count": 1
  },
  {
   "metadata": {
    "ExecuteTime": {
     "end_time": "2025-08-22T09:34:59.902524Z",
     "start_time": "2025-08-22T09:34:59.109269Z"
    }
   },
   "cell_type": "code",
   "source": [
    "circle_sdf = CircleSDF(x0=[0,0], r=0.2)\n",
    "circle_sdf.plot_field(True)"
   ],
   "id": "1e849a00f38067e3",
   "outputs": [],
   "execution_count": 3
  },
  {
   "metadata": {
    "ExecuteTime": {
     "end_time": "2025-08-18T15:38:02.305404Z",
     "start_time": "2025-08-18T15:38:02.137539Z"
    }
   },
   "cell_type": "code",
   "source": [
    "random = SDF(model=lambda x: torch.asarray(np.random.random((x.shape[0], 1))), xy_lims=(-1, 1, -1, 1))\n",
    "random.plot_field(True, 5)"
   ],
   "id": "33bdf3127c619eef",
   "outputs": [],
   "execution_count": 3
  },
  {
   "metadata": {
    "ExecuteTime": {
     "end_time": "2025-08-22T10:15:05.022090Z",
     "start_time": "2025-08-22T10:15:04.998298Z"
    }
   },
   "cell_type": "code",
   "source": [
    "square_constraint = Constraints()\n",
    "\n",
    "@square_constraint.add(5.0, d=0.5, thresh=0.5)\n",
    "def cont(field, coords, d, thresh=0.5):\n",
    "    # Calculate whether each point is inside the square\n",
    "    half_d = d / 2.0\n",
    "    inside = ((coords[:, 0].abs() <= half_d) & (coords[:, 1].abs() <= half_d)).float().unsqueeze(-1)\n",
    "    \n",
    "    p = torch.sigmoid(field)\n",
    "    target = inside  # 1 inside, 0 outside\n",
    "    return ((p - (thresh * 0 + target)).abs()).mean()\n",
    "\n",
    "@square_constraint.add(10.0)\n",
    "def center(field, coords):\n",
    "    # Soft weights (could use sigmoid or softmax, depending on field scale)\n",
    "    p = torch.sigmoid(field)  # shape (N, 1)\n",
    "    \n",
    "    # Weighted average position (center of mass)\n",
    "    weighted_coords = coords * p\n",
    "    total_weight = p.sum() + 1e-8  # prevent division by zero\n",
    "    center = weighted_coords.sum(dim=0) / total_weight\n",
    "    \n",
    "    # Loss: distance from center to origin\n",
    "    return center.norm()\n",
    "\n",
    "@square_constraint.add(5.0, d=0.5, thresh=0.5)\n",
    "def fill(field, coords, d, thresh=0.5):\n",
    "    # Calculate whether each point is inside the square\n",
    "    half_d = d / 2.0\n",
    "    inside = ((coords[:, 0].abs() <= half_d) & (coords[:, 1].abs() <= half_d)).float().unsqueeze(-1)\n",
    "    \n",
    "    p = torch.sigmoid(field)\n",
    "    target = inside  # 1 inside, 0 outside\n",
    "    return ((p - target).abs() * target).mean()  # Only penalize points that are inside"
   ],
   "id": "9e47e825514ea98e",
   "outputs": [],
   "execution_count": 5
  },
  {
   "metadata": {
    "ExecuteTime": {
     "end_time": "2025-08-22T12:43:24.065102Z",
     "start_time": "2025-08-22T12:43:23.991062Z"
    }
   },
   "cell_type": "code",
   "source": [
    "circle_constraint = Constraints()\n",
    "\n",
    "@circle_constraint.add(1.0, r=0.5)\n",
    "def sdf_loss(field, coords, r):\n",
    "    x0 = torch.tensor([0.0, 0.0], device=coords.device)\n",
    "    gt_sdf = torch.linalg.norm(coords - x0, dim=1, keepdim=True) - r\n",
    "    return (field - gt_sdf).abs().mean()\n",
    "\n",
    "@circle_constraint.add(0.1)\n",
    "def eikonal_loss(field, coords):\n",
    "    grads = torch.autograd.grad(\n",
    "        outputs=field,\n",
    "        inputs=coords,\n",
    "        grad_outputs=torch.ones_like(field),\n",
    "        create_graph=True,\n",
    "        retain_graph=True,\n",
    "        only_inputs=True,\n",
    "    )[0]\n",
    "    return ((grads.norm(dim=1) - 1.0) ** 2).mean()\n",
    "\n",
    "@circle_constraint.add(0.1)\n",
    "def center_bias(field, coords):\n",
    "    p = torch.sigmoid(-field)\n",
    "    weighted_coords = coords * p\n",
    "    total_weight = p.sum() + 1e-8\n",
    "    center = weighted_coords.sum(dim=0) / total_weight\n",
    "    return center.norm()\n"
   ],
   "id": "a4b1dab80294523f",
   "outputs": [],
   "execution_count": 2
  },
  {
   "metadata": {
    "ExecuteTime": {
     "end_time": "2025-08-22T10:26:51.909539Z",
     "start_time": "2025-08-22T10:26:25.617841Z"
    }
   },
   "cell_type": "code",
   "source": [
    "model = FieldMLP(hidden=128, depth=5).to(device)\n",
    "sdf = SDF(model=model, xy_lims=(-1, 1, -1, 1), device=device)\n",
    "wandb_logger = WandbLogger(project=\"ginn2d\", name=\"run3\")\n",
    "lit = ConstraintTrainer(sdf, constraints=circle_constraint, lr=1e-3, n_points=128, domain=[-1,1], seed=42)\n",
    "trainer = pl.Trainer(\n",
    "    max_epochs=100,\n",
    "    accelerator=\"auto\",\n",
    "    precision=\"bf16-mixed\" if torch.cuda.is_available() else \"32-true\",\n",
    "    logger=wandb_logger,\n",
    "    gradient_clip_val=1.0,\n",
    "    log_every_n_steps=10,\n",
    ")\n",
    "trainer.fit(lit)"
   ],
   "id": "93b07c0d733ad817",
   "outputs": [
    {
     "name": "stderr",
     "output_type": "stream",
     "text": [
      "Seed set to 42\n",
      "Using bfloat16 Automatic Mixed Precision (AMP)\n",
      "GPU available: True (cuda), used: True\n",
      "TPU available: False, using: 0 TPU cores\n",
      "HPU available: False, using: 0 HPUs\n",
      "LOCAL_RANK: 0 - CUDA_VISIBLE_DEVICES: [0]\n",
      "\n",
      "  | Name  | Type     | Params | Mode \n",
      "-------------------------------------------\n",
      "0 | model | FieldMLP | 50.0 K | train\n",
      "-------------------------------------------\n",
      "50.0 K    Trainable params\n",
      "0         Non-trainable params\n",
      "50.0 K    Total params\n",
      "0.200     Total estimated model params size (MB)\n",
      "11        Modules in train mode\n",
      "0         Modules in eval mode\n"
     ]
    },
    {
     "name": "stdout",
     "output_type": "stream",
     "text": [
      "Epoch 99: 100%|██████████| 10/10 [00:00<00:00, 40.97it/s, v_num=pw1r, loss_step=0.0167, sdf_loss_step=0.0135, eikonal_loss_step=0.00976, center_bias_step=0.023, loss_epoch=0.0232, sdf_loss_epoch=0.0154, eikonal_loss_epoch=0.0143, center_bias_epoch=0.064]   "
     ]
    },
    {
     "name": "stderr",
     "output_type": "stream",
     "text": [
      "`Trainer.fit` stopped: `max_epochs=100` reached.\n"
     ]
    },
    {
     "name": "stdout",
     "output_type": "stream",
     "text": [
      "Epoch 99: 100%|██████████| 10/10 [00:00<00:00, 38.29it/s, v_num=pw1r, loss_step=0.0167, sdf_loss_step=0.0135, eikonal_loss_step=0.00976, center_bias_step=0.023, loss_epoch=0.0232, sdf_loss_epoch=0.0154, eikonal_loss_epoch=0.0143, center_bias_epoch=0.064]\n"
     ]
    }
   ],
   "execution_count": 12
  },
  {
   "metadata": {
    "ExecuteTime": {
     "end_time": "2025-08-22T10:26:52.377610Z",
     "start_time": "2025-08-22T10:26:52.324406Z"
    }
   },
   "cell_type": "code",
   "source": [
    "metrics = trainer.logged_metrics\n",
    "print(metrics)"
   ],
   "id": "5e9e073c57f70d7c",
   "outputs": [
    {
     "name": "stdout",
     "output_type": "stream",
     "text": [
      "{'loss_step': tensor(0.0167), 'sdf_loss_step': tensor(0.0135), 'eikonal_loss_step': tensor(0.0098), 'center_bias_step': tensor(0.0230), 'loss_epoch': tensor(0.0232), 'sdf_loss_epoch': tensor(0.0154), 'eikonal_loss_epoch': tensor(0.0143), 'center_bias_epoch': tensor(0.0640)}\n"
     ]
    }
   ],
   "execution_count": 13
  },
  {
   "metadata": {
    "ExecuteTime": {
     "end_time": "2025-08-22T10:27:38.962242Z",
     "start_time": "2025-08-22T10:27:38.799180Z"
    }
   },
   "cell_type": "code",
   "source": [
    "sdf.plot_field(\n",
    "    True, 50, \n",
    "    # preprocess = lambda x: torch.sigmoid(x),\n",
    ")"
   ],
   "id": "f1b2d141ec537cef",
   "outputs": [],
   "execution_count": 15
  },
  {
   "metadata": {},
   "cell_type": "markdown",
   "source": "Attention based model::",
   "id": "17f477503542cffd"
  },
  {
   "metadata": {
    "ExecuteTime": {
     "end_time": "2025-08-22T12:51:20.708884Z",
     "start_time": "2025-08-22T12:44:37.851101Z"
    }
   },
   "cell_type": "code",
   "source": [
    "model = FieldAttention().to(device)\n",
    "sdf = SDF(model=model, xy_lims=(-1, 1, -1, 1), device=device)\n",
    "wandb_logger = WandbLogger(project=\"ginn2d\", name=\"run_a_1\")\n",
    "lit = ConstraintTrainer(sdf, constraints=circle_constraint, lr=1e-3, n_points=128, domain=[-1,1], seed=42)\n",
    "trainer = pl.Trainer(\n",
    "    max_epochs=100,\n",
    "    accelerator=\"auto\",\n",
    "    precision=\"bf16-mixed\" if torch.cuda.is_available() else \"32-true\",\n",
    "    logger=wandb_logger,\n",
    "    gradient_clip_val=1.0,\n",
    "    log_every_n_steps=10,\n",
    ")\n",
    "trainer.fit(lit)"
   ],
   "id": "db25eb89fd98d714",
   "outputs": [
    {
     "name": "stderr",
     "output_type": "stream",
     "text": [
      "Seed set to 42\n",
      "Using bfloat16 Automatic Mixed Precision (AMP)\n",
      "GPU available: True (cuda), used: True\n",
      "TPU available: False, using: 0 TPU cores\n",
      "HPU available: False, using: 0 HPUs\n",
      "You are using a CUDA device ('NVIDIA GeForce RTX 4050 Laptop GPU') that has Tensor Cores. To properly utilize them, you should set `torch.set_float32_matmul_precision('medium' | 'high')` which will trade-off precision for performance. For more details, read https://pytorch.org/docs/stable/generated/torch.set_float32_matmul_precision.html#torch.set_float32_matmul_precision\n",
      "wandb: W&B API key is configured. Use `wandb login --relogin` to force relogin\n"
     ]
    },
    {
     "data": {
      "text/plain": [
       "<IPython.core.display.HTML object>"
      ],
      "text/html": [
       "creating run (41s)<br>  <strong style=\"color:red\">ERROR</strong> retrying HTTP 500: context canceled"
      ]
     },
     "metadata": {},
     "output_type": "display_data"
    },
    {
     "data": {
      "text/plain": [
       "<IPython.core.display.HTML object>"
      ],
      "text/html": [
       "Tracking run with wandb version 0.21.1"
      ]
     },
     "metadata": {},
     "output_type": "display_data"
    },
    {
     "data": {
      "text/plain": [
       "<IPython.core.display.HTML object>"
      ],
      "text/html": [
       "Run data is saved locally in <code>.\\wandb\\run-20250822_144449-reh4kszd</code>"
      ]
     },
     "metadata": {},
     "output_type": "display_data"
    },
    {
     "data": {
      "text/plain": [
       "<IPython.core.display.HTML object>"
      ],
      "text/html": [
       "Syncing run <strong><a href='https://wandb.ai/navrajansk-johannes-kepler-university/ginn2d/runs/reh4kszd' target=\"_blank\">run_a_1</a></strong> to <a href='https://wandb.ai/navrajansk-johannes-kepler-university/ginn2d' target=\"_blank\">Weights & Biases</a> (<a href='https://wandb.me/developer-guide' target=\"_blank\">docs</a>)<br>"
      ]
     },
     "metadata": {},
     "output_type": "display_data"
    },
    {
     "data": {
      "text/plain": [
       "<IPython.core.display.HTML object>"
      ],
      "text/html": [
       " View project at <a href='https://wandb.ai/navrajansk-johannes-kepler-university/ginn2d' target=\"_blank\">https://wandb.ai/navrajansk-johannes-kepler-university/ginn2d</a>"
      ]
     },
     "metadata": {},
     "output_type": "display_data"
    },
    {
     "data": {
      "text/plain": [
       "<IPython.core.display.HTML object>"
      ],
      "text/html": [
       " View run at <a href='https://wandb.ai/navrajansk-johannes-kepler-university/ginn2d/runs/reh4kszd' target=\"_blank\">https://wandb.ai/navrajansk-johannes-kepler-university/ginn2d/runs/reh4kszd</a>"
      ]
     },
     "metadata": {},
     "output_type": "display_data"
    },
    {
     "name": "stderr",
     "output_type": "stream",
     "text": [
      "LOCAL_RANK: 0 - CUDA_VISIBLE_DEVICES: [0]\n",
      "\n",
      "  | Name  | Type           | Params | Mode \n",
      "-------------------------------------------------\n",
      "0 | model | FieldAttention | 30.3 K | train\n",
      "-------------------------------------------------\n",
      "30.3 K    Trainable params\n",
      "0         Non-trainable params\n",
      "30.3 K    Total params\n",
      "0.121     Total estimated model params size (MB)\n",
      "8         Modules in train mode\n",
      "0         Modules in eval mode\n",
      "C:\\Users\\navra\\anaconda3\\envs\\GINN\\lib\\site-packages\\pytorch_lightning\\trainer\\connectors\\data_connector.py:424: PossibleUserWarning:\n",
      "\n",
      "The 'train_dataloader' does not have many workers which may be a bottleneck. Consider increasing the value of the `num_workers` argument` to `num_workers=11` in the `DataLoader` to improve performance.\n",
      "\n"
     ]
    },
    {
     "name": "stdout",
     "output_type": "stream",
     "text": [
      "Training: |          | 0/? [00:00<?, ?it/s]"
     ]
    },
    {
     "name": "stderr",
     "output_type": "stream",
     "text": [
      "wandb: 500 encountered ({\"errors\":[{\"message\":\"context canceled\",\"path\":[\"upsertBucket\"]}],\"data\":{\"upsertBucket\":null}}), retrying request\n"
     ]
    },
    {
     "name": "stdout",
     "output_type": "stream",
     "text": [
      "Epoch 99: 100%|██████████| 10/10 [00:00<00:00, 47.99it/s, v_num=kszd, loss_step=0.0142, sdf_loss_step=0.011, eikonal_loss_step=0.00897, center_bias_step=0.0231, loss_epoch=0.0179, sdf_loss_epoch=0.0104, eikonal_loss_epoch=0.0112, center_bias_epoch=0.0639]   "
     ]
    },
    {
     "name": "stderr",
     "output_type": "stream",
     "text": [
      "`Trainer.fit` stopped: `max_epochs=100` reached.\n"
     ]
    },
    {
     "name": "stdout",
     "output_type": "stream",
     "text": [
      "Epoch 99: 100%|██████████| 10/10 [00:00<00:00, 44.74it/s, v_num=kszd, loss_step=0.0142, sdf_loss_step=0.011, eikonal_loss_step=0.00897, center_bias_step=0.0231, loss_epoch=0.0179, sdf_loss_epoch=0.0104, eikonal_loss_epoch=0.0112, center_bias_epoch=0.0639]\n"
     ]
    }
   ],
   "execution_count": 4
  },
  {
   "metadata": {
    "ExecuteTime": {
     "end_time": "2025-08-22T12:51:54.903817Z",
     "start_time": "2025-08-22T12:51:54.740415Z"
    }
   },
   "cell_type": "code",
   "source": [
    "sdf.plot_field(\n",
    "    True, 50, \n",
    "    preprocess = lambda x: torch.sigmoid(x),\n",
    ")"
   ],
   "id": "6a5651fd7aaa281e",
   "outputs": [],
   "execution_count": 6
  },
  {
   "metadata": {},
   "cell_type": "code",
   "outputs": [],
   "execution_count": null,
   "source": "",
   "id": "32edad1eabcb1b88"
  }
 ],
 "metadata": {
  "kernelspec": {
   "display_name": "Python 3",
   "language": "python",
   "name": "python3"
  },
  "language_info": {
   "codemirror_mode": {
    "name": "ipython",
    "version": 2
   },
   "file_extension": ".py",
   "mimetype": "text/x-python",
   "name": "python",
   "nbconvert_exporter": "python",
   "pygments_lexer": "ipython2",
   "version": "2.7.6"
  }
 },
 "nbformat": 4,
 "nbformat_minor": 5
}
