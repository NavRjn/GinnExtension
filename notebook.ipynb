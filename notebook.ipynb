{
 "cells": [
  {
   "cell_type": "code",
   "id": "initial_id",
   "metadata": {
    "collapsed": true,
    "ExecuteTime": {
     "end_time": "2025-08-17T17:13:04.461058Z",
     "start_time": "2025-08-17T17:13:01.716318Z"
    }
   },
   "source": [
    "import numpy as np\n",
    "import torch\n",
    "import matplotlib.pyplot as plt\n",
    "import plotly.graph_objs as go\n",
    "import plotly.io as pio\n",
    "from math import sqrt\n",
    "\n",
    "from typing_extensions import overload\n",
    "\n",
    "pio.renderers.default = \"browser\""
   ],
   "outputs": [],
   "execution_count": 1
  },
  {
   "metadata": {
    "ExecuteTime": {
     "end_time": "2025-08-17T17:13:19.959673Z",
     "start_time": "2025-08-17T17:13:19.932548Z"
    }
   },
   "cell_type": "code",
   "source": [
    "# The idea basically is to develop a 2D Toy problem to demonstrate GINN. It must cover the entire workflow, establish some evaluations, and produce concrete comparable metrics. The choice of models or \"data\" is arbitrary. However, it must be easily transferable to VecSet type workflows too. Ideally modular.\n",
    "# Also lets use neural fields instead of clouds from step 1.\n",
    "N = 100\n",
    "device = torch.device('cuda' if torch.cuda.is_available() else 'cpu')"
   ],
   "id": "2396d92fe0421227",
   "outputs": [],
   "execution_count": 2
  },
  {
   "metadata": {
    "ExecuteTime": {
     "end_time": "2025-08-17T17:13:20.986349Z",
     "start_time": "2025-08-17T17:13:20.970447Z"
    }
   },
   "cell_type": "code",
   "source": [
    "# def plot_cloud(points, title=\"Point Cloud\"):\n",
    "#     x, y = zip(*points)\n",
    "#     fig = go.Figure(data=go.Scatter(x=x, y=y, mode='markers'))\n",
    "#     fig.update_layout(title=title,\n",
    "#                       xaxis_title='X',\n",
    "#                       yaxis_title='Y',\n",
    "#                       width=600, height=600)\n",
    "#     fig.show()\n",
    "# \n",
    "# def plot_field(grid_y, grid_x, values, plotly=False):\n",
    "#     if not plotly:\n",
    "#         plt.contourf(grid_x.cpu().numpy(), grid_y.cpu().numpy(), values.cpu(), levels=50)\n",
    "#         plt.colorbar()\n",
    "#         plt.contour(grid_x.cpu(), grid_y.cpu(), values.reshape(grid_x.shape).cpu(), levels=[0.0], colors='black')  # plot zero level\n",
    "#         plt.show()\n",
    "#         return\n",
    "#     \n",
    "#     fig = go.Figure(\n",
    "#         data=go.Contour(\n",
    "#             x=grid_x[0, :].cpu().numpy(),   # X-axis from meshgrid\n",
    "#             y=grid_y[:, 0].cpu().numpy(),   # Y-axis from meshgrid\n",
    "#             z=values.cpu().numpy(),         # field values\n",
    "#             colorscale=\"Viridis\",           # color map\n",
    "#             contours=dict(showlines=True, coloring=\"fill\"),\n",
    "#             ncontours=100,\n",
    "#             showscale=True\n",
    "#         )\n",
    "#     )\n",
    "# \n",
    "#     # Add zero-level contour in black (like your plt.contour)\n",
    "#     fig.add_trace(\n",
    "#         go.Contour(\n",
    "#             x=grid_x[0, :].cpu().numpy(),\n",
    "#             y=grid_y[:, 0].cpu().numpy(),\n",
    "#             z=values.cpu().numpy(),\n",
    "#             contours=dict(start=-0.1, end=0.1, size=1, coloring=\"none\"),\n",
    "#             line=dict(color=\"black\", width=2),\n",
    "#             showscale=False\n",
    "#         )\n",
    "#     )\n",
    "#     \n",
    "#     fig.update_layout(\n",
    "#         title=\"Contour Plot\",\n",
    "#         xaxis=dict(\n",
    "#             scaleanchor=\"y\",  # Lock x and y axes together\n",
    "#         ),\n",
    "#         yaxis=dict(\n",
    "#             scaleanchor=\"x\",  # Lock y and x axes together (optional, can be removed if set on xaxis)\n",
    "#         ),\n",
    "#         autosize=True\n",
    "#     )\n",
    "# \n",
    "#     fig.show()\n",
    "# \n",
    "# def get_point_rep(fun):\n",
    "#     grid_x, grid_y = torch.meshgrid(\n",
    "#             torch.linspace(-1, 1, N), torch.linspace(-1, 1, N), indexing=\"ij\"\n",
    "#         )\n",
    "#     coords = torch.stack([grid_x.reshape(-1), grid_y.reshape(-1)], dim=-1).to(device)\n",
    "#     \n",
    "#     with torch.no_grad():\n",
    "#         values = fun(coords).reshape(N, N)\n",
    "#         \n",
    "#     return grid_x.to(device), grid_y.to(device), values.to(device)\n",
    "# \n",
    "# def circle_SDF(x0=[0,0], r=1):\n",
    "#     return lambda points: torch.asarray([abs(sqrt((x[0]-x0[0])**2 + (x[1]-x0[1])**2)-r) for x in points])\n",
    "#     "
   ],
   "id": "129e0dfe87b56be3",
   "outputs": [],
   "execution_count": 3
  },
  {
   "metadata": {
    "ExecuteTime": {
     "end_time": "2025-08-17T17:27:55.108586Z",
     "start_time": "2025-08-17T17:27:55.093061Z"
    }
   },
   "cell_type": "code",
   "source": [
    "class SDF:\n",
    "    def __init__(self, fun=None, model=None, grid_x=None, grid_y=None, values=None, xy_lims=None):\n",
    "        if xy_lims is not None:\n",
    "            self.grid_y, self.grid_x = torch.meshgrid(torch.linspace(xy_lims[0], xy_lims[1], N), torch.linspace(xy_lims[2], xy_lims[3], N), indexing=\"ij\") \n",
    "        else:\n",
    "            assert grid_x is not None and grid_y is not None\n",
    "            self.grid_x, self.grid_y = grid_x, grid_y\n",
    "        \n",
    "        self.values, self.model, self.values = None, None, None\n",
    "        self.update(fun, model, values)\n",
    "        \n",
    "        self.fig = None\n",
    "                \n",
    "    def plot_field(self, plotly=False, layers=100):\n",
    "        grid_x, grid_y = self.grid_x, self.grid_y\n",
    "        values = self.values\n",
    "        if not plotly:\n",
    "            plt.contourf(grid_x.cpu().numpy(), grid_y.cpu().numpy(), values.cpu(), levels=layers)\n",
    "            plt.colorbar()\n",
    "            plt.contour(grid_x.cpu(), grid_y.cpu(), values.reshape(grid_x.shape).cpu(), levels=[0.0], colors='black')  # plot zero level\n",
    "            plt.show()\n",
    "            return\n",
    "        \n",
    "        self.fig = go.Figure(\n",
    "            data=go.Contour(\n",
    "                x=grid_x[0, :].cpu().numpy(),   # X-axis from meshgrid\n",
    "                y=grid_y[:, 0].cpu().numpy(),   # Y-axis from meshgrid\n",
    "                z=values.cpu().numpy(),         # field values\n",
    "                colorscale=\"Viridis\",           # color map\n",
    "                contours=dict(showlines=False, coloring=\"fill\"),\n",
    "                ncontours=layers,\n",
    "                showscale=True\n",
    "            )\n",
    "        )\n",
    "    \n",
    "        # Add zero-level contour in black (like your plt.contour)\n",
    "        self.fig.add_trace(\n",
    "            go.Contour(\n",
    "                x=grid_x[0, :].cpu().numpy(),\n",
    "                y=grid_y[:, 0].cpu().numpy(),\n",
    "                z=values.cpu().numpy(),\n",
    "                contours=dict(start=-0.1, end=0.1, size=1, coloring=\"none\"),\n",
    "                line=dict(color=\"black\", width=2),\n",
    "                showscale=False\n",
    "            )\n",
    "        )\n",
    "        \n",
    "        self.fig.update_layout(\n",
    "            title=\"Contour Plot\",\n",
    "            xaxis=dict(\n",
    "                scaleanchor=\"y\",  # Lock x and y axes together\n",
    "            ),\n",
    "            yaxis=dict(\n",
    "                scaleanchor=\"x\",  # Lock y and x axes together (optional, can be removed if set on xaxis)\n",
    "            ),\n",
    "            autosize=True\n",
    "        )\n",
    "    \n",
    "        self.fig.show()\n",
    "        \n",
    "    def update(self, fun=None, model=None, values=None):\n",
    "        if fun is None and model is None:\n",
    "            assert values is not None\n",
    "            self.values = values\n",
    "            self.model = None\n",
    "        else:\n",
    "            if model is None:\n",
    "                assert fun is not None\n",
    "                model = lambda points: torch.asarray([fun(point) for point in points])\n",
    "            self.model = model\n",
    "            coords = torch.stack([self.grid_x.reshape(-1), self.grid_y.reshape(-1)], dim=-1).to(device)\n",
    "            with torch.no_grad():\n",
    "                self.values = model(coords).reshape(N, N)\n",
    "                \n",
    "class CircleSDF(SDF):\n",
    "    def __init__(self, x0=(0,0), r=1, xy_lims=(-1, 1, -1, 1)):\n",
    "        model = lambda points: torch.asarray([abs(sqrt((x[0]-x0[0])**2 + (x[1]-x0[1])**2)-r) for x in points])\n",
    "        super().__init__(model=model, xy_lims=xy_lims)"
   ],
   "id": "b0801504ecf92456",
   "outputs": [],
   "execution_count": 26
  },
  {
   "metadata": {
    "ExecuteTime": {
     "end_time": "2025-08-17T17:26:50.765302Z",
     "start_time": "2025-08-17T17:26:48.855555Z"
    }
   },
   "cell_type": "code",
   "source": [
    "circle_sdf = CircleSDF(x0=[0,0], r=0.2)\n",
    "circle_sdf.plot_field(True)"
   ],
   "id": "1e849a00f38067e3",
   "outputs": [],
   "execution_count": 23
  },
  {
   "metadata": {
    "ExecuteTime": {
     "end_time": "2025-08-17T17:27:00.082397Z",
     "start_time": "2025-08-17T17:27:00.071706Z"
    }
   },
   "cell_type": "code",
   "source": "random = SDF(model=lambda x: torch.asarray(np.random.random((x.shape[0], 1))), xy_lims=(-1, 1, -1, 1))",
   "id": "33bdf3127c619eef",
   "outputs": [],
   "execution_count": 24
  },
  {
   "metadata": {
    "ExecuteTime": {
     "end_time": "2025-08-17T17:27:00.489214Z",
     "start_time": "2025-08-17T17:27:00.343265Z"
    }
   },
   "cell_type": "code",
   "source": "random.plot_field(True, 5)",
   "id": "b63c3ae525ed7ced",
   "outputs": [],
   "execution_count": 25
  },
  {
   "metadata": {},
   "cell_type": "code",
   "outputs": [],
   "execution_count": null,
   "source": "",
   "id": "f1065143c682dcd0"
  }
 ],
 "metadata": {
  "kernelspec": {
   "display_name": "Python 3",
   "language": "python",
   "name": "python3"
  },
  "language_info": {
   "codemirror_mode": {
    "name": "ipython",
    "version": 2
   },
   "file_extension": ".py",
   "mimetype": "text/x-python",
   "name": "python",
   "nbconvert_exporter": "python",
   "pygments_lexer": "ipython2",
   "version": "2.7.6"
  }
 },
 "nbformat": 4,
 "nbformat_minor": 5
}
