{
 "cells": [
  {
   "cell_type": "code",
   "id": "initial_id",
   "metadata": {
    "collapsed": true,
    "ExecuteTime": {
     "end_time": "2025-09-15T20:44:36.763333Z",
     "start_time": "2025-09-15T20:44:26.005708Z"
    }
   },
   "source": [
    "from models import FieldMLP, FieldAttention\n",
    "import importlib\n",
    "import utils\n",
    "importlib.reload(utils)\n",
    "from utils import *\n",
    "\n",
    "pio.renderers.default = \"browser\""
   ],
   "outputs": [],
   "execution_count": 1
  },
  {
   "metadata": {
    "ExecuteTime": {
     "end_time": "2025-09-15T20:44:39.948232Z",
     "start_time": "2025-09-15T20:44:39.764290Z"
    }
   },
   "cell_type": "code",
   "source": [
    "# Step 1: Build model\n",
    "model = FieldMLP(out_dim=2, hidden=128, depth=2).to(device)   # NOTE: 2 outputs = u,v\n",
    "\n",
    "# Step 2: Wrap in TuringSDF (with PDE params)\n",
    "turing_sdf = TuringSDF(\n",
    "    model=model, \n",
    "    domain=(-1,1), \n",
    "    device=device,\n",
    "    Du=2.4e-5, Dv=1.2e-5, alpha=0.028, beta=0.057\n",
    ")"
   ],
   "id": "d8702ee03c2f2f1c",
   "outputs": [],
   "execution_count": 2
  },
  {
   "metadata": {
    "ExecuteTime": {
     "end_time": "2025-09-15T20:44:43.267521Z",
     "start_time": "2025-09-15T20:44:43.251783Z"
    }
   },
   "cell_type": "code",
   "source": [
    "\n",
    "# Step 3: Use a custom constraint wrapper that calls residuals\n",
    "turing_constraints = Constraints()\n",
    "\n",
    "@turing_constraints.add(1.0, True)\n",
    "def pde_loss(field, coords, residuals):\n",
    "    Ru, Rv, u, v = residuals if (residuals != None) else turing_sdf.residuals(coords)\n",
    "    return (Ru**2).mean() + (Rv**2).mean()\n",
    "\n",
    "@turing_constraints.add(0.0001, True)\n",
    "def nontrivial(field, coords, residuals):\n",
    "    Ru, Rv, u, v = residuals if (residuals != None) else turing_sdf.residuals(coords)\n",
    "    grad_energy = (u.pow(2).mean() + v.pow(2).mean())\n",
    "    return -grad_energy   # encourages structure"
   ],
   "id": "f5d5373bd1907ab5",
   "outputs": [],
   "execution_count": 3
  },
  {
   "metadata": {
    "ExecuteTime": {
     "end_time": "2025-09-15T20:44:45.836984Z",
     "start_time": "2025-09-15T20:44:45.805115Z"
    }
   },
   "cell_type": "code",
   "source": [
    "\n",
    "# Step 4: Lightning trainer\n",
    "wandb_logger = WandbLogger(project=\"ginn2d\", name=\"turing_run_retest\")\n",
    "lit = ConstraintTrainer(\n",
    "    turing_sdf, \n",
    "    constraints=turing_constraints, \n",
    "    lr=1e-3, \n",
    "    n_points=2048, \n",
    "    domain=[-1,1], \n",
    "    seed=42\n",
    ")"
   ],
   "id": "76b5376b46b49494",
   "outputs": [
    {
     "name": "stderr",
     "output_type": "stream",
     "text": [
      "Seed set to 42\n"
     ]
    }
   ],
   "execution_count": 4
  },
  {
   "metadata": {
    "ExecuteTime": {
     "end_time": "2025-09-15T20:48:00.551468Z",
     "start_time": "2025-09-15T20:44:50.280395Z"
    }
   },
   "cell_type": "code",
   "source": [
    "\n",
    "trainer = pl.Trainer(\n",
    "    max_epochs=100,    # needs longer than geometry\n",
    "    accelerator=\"auto\",\n",
    "    precision=\"bf16-mixed\" if torch.cuda.is_available() else \"32-true\",\n",
    "    logger=wandb_logger,\n",
    "    gradient_clip_val=1.0,\n",
    "    log_every_n_steps=10,\n",
    ")\n",
    "\n",
    "trainer.fit(lit)\n"
   ],
   "id": "a6f414099a1945c3",
   "outputs": [
    {
     "name": "stderr",
     "output_type": "stream",
     "text": [
      "Using bfloat16 Automatic Mixed Precision (AMP)\n",
      "GPU available: True (cuda), used: True\n",
      "TPU available: False, using: 0 TPU cores\n",
      "HPU available: False, using: 0 HPUs\n",
      "You are using a CUDA device ('NVIDIA GeForce RTX 4050 Laptop GPU') that has Tensor Cores. To properly utilize them, you should set `torch.set_float32_matmul_precision('medium' | 'high')` which will trade-off precision for performance. For more details, read https://pytorch.org/docs/stable/generated/torch.set_float32_matmul_precision.html#torch.set_float32_matmul_precision\n",
      "wandb: Currently logged in as: navrajansk (navrajansk-johannes-kepler-university) to https://api.wandb.ai. Use `wandb login --relogin` to force relogin\n"
     ]
    },
    {
     "data": {
      "text/plain": [
       "<IPython.core.display.HTML object>"
      ],
      "text/html": [
       "creating run (0.7s)"
      ]
     },
     "metadata": {},
     "output_type": "display_data"
    },
    {
     "data": {
      "text/plain": [
       "<IPython.core.display.HTML object>"
      ],
      "text/html": [
       "Tracking run with wandb version 0.21.1"
      ]
     },
     "metadata": {},
     "output_type": "display_data"
    },
    {
     "data": {
      "text/plain": [
       "<IPython.core.display.HTML object>"
      ],
      "text/html": [
       "Run data is saved locally in <code>.\\wandb\\run-20250916_021451-codkab74</code>"
      ]
     },
     "metadata": {},
     "output_type": "display_data"
    },
    {
     "data": {
      "text/plain": [
       "<IPython.core.display.HTML object>"
      ],
      "text/html": [
       "Syncing run <strong><a href='https://wandb.ai/navrajansk-johannes-kepler-university/ginn2d/runs/codkab74' target=\"_blank\">turing_run_retest</a></strong> to <a href='https://wandb.ai/navrajansk-johannes-kepler-university/ginn2d' target=\"_blank\">Weights & Biases</a> (<a href='https://wandb.me/developer-guide' target=\"_blank\">docs</a>)<br>"
      ]
     },
     "metadata": {},
     "output_type": "display_data"
    },
    {
     "data": {
      "text/plain": [
       "<IPython.core.display.HTML object>"
      ],
      "text/html": [
       " View project at <a href='https://wandb.ai/navrajansk-johannes-kepler-university/ginn2d' target=\"_blank\">https://wandb.ai/navrajansk-johannes-kepler-university/ginn2d</a>"
      ]
     },
     "metadata": {},
     "output_type": "display_data"
    },
    {
     "data": {
      "text/plain": [
       "<IPython.core.display.HTML object>"
      ],
      "text/html": [
       " View run at <a href='https://wandb.ai/navrajansk-johannes-kepler-university/ginn2d/runs/codkab74' target=\"_blank\">https://wandb.ai/navrajansk-johannes-kepler-university/ginn2d/runs/codkab74</a>"
      ]
     },
     "metadata": {},
     "output_type": "display_data"
    },
    {
     "name": "stderr",
     "output_type": "stream",
     "text": [
      "LOCAL_RANK: 0 - CUDA_VISIBLE_DEVICES: [0]\n",
      "\n",
      "  | Name  | Type     | Params | Mode \n",
      "-------------------------------------------\n",
      "0 | model | FieldMLP | 642    | train\n",
      "-------------------------------------------\n",
      "642       Trainable params\n",
      "0         Non-trainable params\n",
      "642       Total params\n",
      "0.003     Total estimated model params size (MB)\n",
      "5         Modules in train mode\n",
      "0         Modules in eval mode\n",
      "C:\\Users\\navra\\anaconda3\\envs\\GINN\\lib\\site-packages\\pytorch_lightning\\trainer\\connectors\\data_connector.py:424: PossibleUserWarning:\n",
      "\n",
      "The 'train_dataloader' does not have many workers which may be a bottleneck. Consider increasing the value of the `num_workers` argument` to `num_workers=11` in the `DataLoader` to improve performance.\n",
      "\n"
     ]
    },
    {
     "name": "stdout",
     "output_type": "stream",
     "text": [
      "Epoch 99: 100%|██████████| 10/10 [00:00<00:00, 18.13it/s, v_num=ab74, loss_step=-0.000115, pde_loss_step=1.68e-5, nontrivial_step=-1.31, loss_epoch=-0.000115, pde_loss_epoch=1.68e-5, nontrivial_epoch=-1.31] "
     ]
    },
    {
     "name": "stderr",
     "output_type": "stream",
     "text": [
      "`Trainer.fit` stopped: `max_epochs=100` reached.\n"
     ]
    },
    {
     "name": "stdout",
     "output_type": "stream",
     "text": [
      "Epoch 99: 100%|██████████| 10/10 [00:00<00:00, 17.58it/s, v_num=ab74, loss_step=-0.000115, pde_loss_step=1.68e-5, nontrivial_step=-1.31, loss_epoch=-0.000115, pde_loss_epoch=1.68e-5, nontrivial_epoch=-1.31]\n"
     ]
    }
   ],
   "execution_count": 5
  },
  {
   "metadata": {
    "ExecuteTime": {
     "end_time": "2025-09-15T20:50:45.378559Z",
     "start_time": "2025-09-15T20:50:42.353393Z"
    }
   },
   "cell_type": "code",
   "source": "turing_sdf.plot_field(domain=(0,100), preprocess=lambda x: x[:, 0], newN=1000)",
   "id": "2cab55df5d29fe81",
   "outputs": [
    {
     "data": {
      "text/plain": [
       "<Figure size 640x480 with 2 Axes>"
      ],
      "image/png": "[encoded data removed]"
     },
     "metadata": {},
     "output_type": "display_data"
    }
   ],
   "execution_count": 14
  },
  {
   "metadata": {},
   "cell_type": "code",
   "outputs": [],
   "execution_count": null,
   "source": "",
   "id": "cb4ea08cca2302ed"
  }
 ],
 "metadata": {
  "kernelspec": {
   "display_name": "Python 3",
   "language": "python",
   "name": "python3"
  },
  "language_info": {
   "codemirror_mode": {
    "name": "ipython",
    "version": 2
   },
   "file_extension": ".py",
   "mimetype": "text/x-python",
   "name": "python",
   "nbconvert_exporter": "python",
   "pygments_lexer": "ipython2",
   "version": "2.7.6"
  }
 },
 "nbformat": 4,
 "nbformat_minor": 5
}
