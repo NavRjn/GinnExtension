{
 "cells": [
  {
   "cell_type": "code",
   "id": "initial_id",
   "metadata": {
    "collapsed": true,
    "jupyter": {
     "is_executing": true
    }
   },
   "source": [
    "from symbol import decorator\n",
    "\n",
    "import numpy as np\n",
    "import torch\n",
    "import torch.nn as nn\n",
    "import torch.optim as optim\n",
    "import matplotlib.pyplot as plt\n",
    "import plotly.graph_objs as go\n",
    "import plotly.io as pio\n",
    "from math import sqrt\n",
    "import pytorch_lightning as pl\n",
    "from pytorch_lightning.loggers import WandbLogger\n",
    "from pytorch_lightning import Trainer\n",
    "from torch.utils.data import DataLoader, Dataset\n",
    "import wandb\n",
    "from models import FieldMLP\n",
    "from utils import *\n",
    "\n",
    "pio.renderers.default = \"browser\""
   ],
   "outputs": [],
   "execution_count": null
  },
  {
   "metadata": {
    "ExecuteTime": {
     "end_time": "2025-08-18T10:40:01.344297Z",
     "start_time": "2025-08-18T10:39:59.455960Z"
    }
   },
   "cell_type": "code",
   "source": [
    "circle_sdf = CircleSDF(x0=[0,0], r=0.2)\n",
    "circle_sdf.plot_field(True)"
   ],
   "id": "1e849a00f38067e3",
   "outputs": [],
   "execution_count": 45
  },
  {
   "metadata": {
    "ExecuteTime": {
     "end_time": "2025-08-17T17:27:00.082397Z",
     "start_time": "2025-08-17T17:27:00.071706Z"
    }
   },
   "cell_type": "code",
   "source": [
    "random = SDF(model=lambda x: torch.asarray(np.random.random((x.shape[0], 1))), xy_lims=(-1, 1, -1, 1))\n",
    "random.plot_field(True, 5)"
   ],
   "id": "33bdf3127c619eef",
   "outputs": [],
   "execution_count": 24
  },
  {
   "metadata": {
    "ExecuteTime": {
     "end_time": "2025-08-18T11:24:48.555441Z",
     "start_time": "2025-08-18T11:24:35.777088Z"
    }
   },
   "cell_type": "code",
   "source": [
    "model = FieldMLP(hidden=128, depth=5).to(device)\n",
    "sdf = SDF(model=model, xy_lims=(-1, 1, -1, 1))\n",
    "wandb_logger = WandbLogger(project=\"ginn2d\", name=\"run1\")\n",
    "lit = ConstraintTrainer(sdf, constraints=example_constraints, lr=1e-3, n_points=128, domain=[-1,1], seed=42)\n",
    "trainer = pl.Trainer(\n",
    "    max_epochs=50,\n",
    "    accelerator=\"auto\",\n",
    "    precision=\"bf16-mixed\" if torch.cuda.is_available() else \"32-true\",\n",
    "    logger=wandb_logger,\n",
    "    gradient_clip_val=1.0,\n",
    "    log_every_n_steps=10,\n",
    ")\n",
    "trainer.fit(lit)"
   ],
   "id": "93b07c0d733ad817",
   "outputs": [
    {
     "name": "stderr",
     "output_type": "stream",
     "text": [
      "Seed set to 42\n",
      "Using bfloat16 Automatic Mixed Precision (AMP)\n",
      "GPU available: True (cuda), used: True\n",
      "TPU available: False, using: 0 TPU cores\n",
      "HPU available: False, using: 0 HPUs\n",
      "C:\\Users\\navra\\anaconda3\\envs\\GINN\\lib\\site-packages\\pytorch_lightning\\loggers\\wandb.py:396: UserWarning:\n",
      "\n",
      "There is a wandb run already in progress and newly created instances of `WandbLogger` will reuse this run. If this is not desired, call `wandb.finish()` before instantiating `WandbLogger`.\n",
      "\n",
      "LOCAL_RANK: 0 - CUDA_VISIBLE_DEVICES: [0]\n",
      "\n",
      "  | Name  | Type     | Params | Mode \n",
      "-------------------------------------------\n",
      "0 | model | FieldMLP | 50.0 K | train\n",
      "-------------------------------------------\n",
      "50.0 K    Trainable params\n",
      "0         Non-trainable params\n",
      "50.0 K    Total params\n",
      "0.200     Total estimated model params size (MB)\n",
      "11        Modules in train mode\n",
      "0         Modules in eval mode\n",
      "C:\\Users\\navra\\anaconda3\\envs\\GINN\\lib\\site-packages\\pytorch_lightning\\trainer\\connectors\\data_connector.py:424: PossibleUserWarning:\n",
      "\n",
      "The 'train_dataloader' does not have many workers which may be a bottleneck. Consider increasing the value of the `num_workers` argument` to `num_workers=11` in the `DataLoader` to improve performance.\n",
      "\n"
     ]
    },
    {
     "name": "stdout",
     "output_type": "stream",
     "text": [
      "Epoch 49: 100%|██████████| 10/10 [00:00<00:00, 49.97it/s, v_num=xjob, loss_step=2.430, area_step=0.0531, tv_step=8.850, cont_step=0.094, center_step=1.960, loss_epoch=2.520, area_epoch=0.0606, tv_epoch=9.800, cont_epoch=0.097, center_epoch=1.640]  "
     ]
    },
    {
     "name": "stderr",
     "output_type": "stream",
     "text": [
      "`Trainer.fit` stopped: `max_epochs=50` reached.\n"
     ]
    },
    {
     "name": "stdout",
     "output_type": "stream",
     "text": [
      "Epoch 49: 100%|██████████| 10/10 [00:00<00:00, 45.44it/s, v_num=xjob, loss_step=2.430, area_step=0.0531, tv_step=8.850, cont_step=0.094, center_step=1.960, loss_epoch=2.520, area_epoch=0.0606, tv_epoch=9.800, cont_epoch=0.097, center_epoch=1.640]\n"
     ]
    }
   ],
   "execution_count": 18
  },
  {
   "metadata": {
    "ExecuteTime": {
     "end_time": "2025-08-18T11:10:46.747728Z",
     "start_time": "2025-08-18T11:10:46.729713Z"
    }
   },
   "cell_type": "code",
   "source": [
    "metrics = trainer.logged_metrics\n",
    "print(metrics)"
   ],
   "id": "5e9e073c57f70d7c",
   "outputs": [
    {
     "name": "stdout",
     "output_type": "stream",
     "text": [
      "{'loss_step': tensor(2.4623), 'area_step': tensor(0.0606), 'tv_step': tensor(9.5697), 'cont_step': tensor(0.0988), 'center_step': tensor(1.3733), 'loss_epoch': tensor(2.4568), 'area_epoch': tensor(0.0609), 'tv_epoch': tensor(9.3366), 'cont_epoch': tensor(0.0957), 'center_epoch': tensor(1.6123)}\n"
     ]
    }
   ],
   "execution_count": 6
  },
  {
   "metadata": {
    "ExecuteTime": {
     "end_time": "2025-08-18T11:10:47.885190Z",
     "start_time": "2025-08-18T11:10:47.727024Z"
    }
   },
   "cell_type": "code",
   "source": [
    "sdf.plot_field(\n",
    "    True, 50, \n",
    ")"
   ],
   "id": "f1b2d141ec537cef",
   "outputs": [],
   "execution_count": 7
  }
 ],
 "metadata": {
  "kernelspec": {
   "display_name": "Python 3",
   "language": "python",
   "name": "python3"
  },
  "language_info": {
   "codemirror_mode": {
    "name": "ipython",
    "version": 2
   },
   "file_extension": ".py",
   "mimetype": "text/x-python",
   "name": "python",
   "nbconvert_exporter": "python",
   "pygments_lexer": "ipython2",
   "version": "2.7.6"
  }
 },
 "nbformat": 4,
 "nbformat_minor": 5
}
